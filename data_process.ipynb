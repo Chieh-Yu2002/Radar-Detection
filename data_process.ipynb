{
 "cells": [
  {
   "cell_type": "code",
   "execution_count": 70,
   "metadata": {},
   "outputs": [],
   "source": [
    "import os\n",
    "import numpy as np\n",
    "import shutil\n",
    "import json\n",
    "import re\n",
    "save_dir = './yolov8_dataset'\n",
    "train_dir = './train_data'\n",
    "test_dir = './test_data'\n",
    "train_file = os.path.join(save_dir, 'train.txt')\n",
    "test_file = os.path.join(save_dir, 'test.txt')"
   ]
  },
  {
   "attachments": {},
   "cell_type": "markdown",
   "metadata": {},
   "source": [
    "# Copy images"
   ]
  },
  {
   "cell_type": "code",
   "execution_count": 6,
   "metadata": {},
   "outputs": [],
   "source": [
    "folders = os.listdir(train_dir)\n",
    "folders.sort()\n",
    "size = 0\n",
    "for folder in folders:\n",
    "    radar_folder = os.path.join(train_dir, folder, 'Navtech_Cartesian')\n",
    "    radar_files = os.listdir(radar_folder)\n",
    "    radar_files.sort()\n",
    "    for radar_file in radar_files:\n",
    "        if radar_file.endswith('.png'):\n",
    "            shutil.copy(os.path.join(radar_folder, radar_file), os.path.join(save_dir, 'images','train', folder+radar_file))\n"
   ]
  },
  {
   "cell_type": "code",
   "execution_count": 117,
   "metadata": {},
   "outputs": [],
   "source": [
    "folders = os.listdir(test_dir)\n",
    "folders.sort()\n",
    "size = 0\n",
    "for folder in folders:\n",
    "    radar_folder = os.path.join(test_dir, folder, 'Navtech_Cartesian')\n",
    "    radar_files = os.listdir(radar_folder)\n",
    "    radar_files.sort()\n",
    "    for radar_file in radar_files:\n",
    "        if radar_file.endswith('.png'):\n",
    "            shutil.copy(os.path.join(radar_folder, radar_file), os.path.join(save_dir, 'images','val', folder+radar_file))\n"
   ]
  },
  {
   "attachments": {},
   "cell_type": "markdown",
   "metadata": {},
   "source": [
    "# Create label txt"
   ]
  },
  {
   "cell_type": "code",
   "execution_count": 27,
   "metadata": {},
   "outputs": [],
   "source": [
    "def gen_boundingbox(bbox, angle):\n",
    "        theta = np.deg2rad(-angle)\n",
    "        R = np.array([[np.cos(theta), -np.sin(theta)],\n",
    "                      [np.sin(theta), np.cos(theta)]])\n",
    "        points = np.array([[bbox[0], bbox[1]],\n",
    "                           [bbox[0] + bbox[2], bbox[1]],\n",
    "                           [bbox[0] + bbox[2], bbox[1] + bbox[3]],\n",
    "                           [bbox[0], bbox[1] + bbox[3]]]).T\n",
    "\n",
    "        cx = bbox[0] + bbox[2] / 2\n",
    "        cy = bbox[1] + bbox[3] / 2\n",
    "        T = np.array([[cx], [cy]])\n",
    "\n",
    "        points = points - T\n",
    "        points = np.matmul(R, points) + T\n",
    "        points = points.astype(int)\n",
    "\n",
    "        min_x = np.min(points[0, :])\n",
    "        min_y = np.min(points[1, :])\n",
    "        max_x = np.max(points[0, :])\n",
    "        max_y = np.max(points[1, :])\n",
    "\n",
    "        return min_x, min_y, max_x, max_y\n",
    "\n",
    "def gen_boundingbox_yolov8(bbox, angle, img_width, img_height):\n",
    "    # Generate bounding box coordinates for YOLOv8\n",
    "    min_x, min_y, max_x, max_y = gen_boundingbox(bbox, angle)\n",
    "    x_center = ((min_x + max_x) / 2) / img_width\n",
    "    y_center = ((min_y + max_y) / 2) / img_height\n",
    "    width = (max_x - min_x) / img_width\n",
    "    height = (max_y - min_y) / img_height\n",
    "    return x_center, y_center, width, height\n",
    "\n"
   ]
  },
  {
   "cell_type": "code",
   "execution_count": 33,
   "metadata": {},
   "outputs": [],
   "source": [
    "def get_radar_dicts(folders,root_dir):\n",
    "    dataset_dicts = []\n",
    "    idd = 0\n",
    "    folder_size = len(folders)\n",
    "    frame_nums = 0\n",
    "    loss_files = {}\n",
    "    for folder in folders:\n",
    "        frame_nums += len(os.listdir(os.path.join(root_dir, folder, 'Navtech_Cartesian')))\n",
    "        radar_folder = os.path.join(root_dir, folder, 'Navtech_Cartesian')\n",
    "        annotation_path = os.path.join(root_dir,\n",
    "                                        folder, 'annotations', 'annotations.json')\n",
    "        with open(annotation_path, 'r') as f_annotation:\n",
    "            annotation = json.load(f_annotation)\n",
    "\n",
    "        radar_files = os.listdir(radar_folder)\n",
    "        radar_files.sort()\n",
    "        for frame_number in range(len(radar_files)):\n",
    "            record = {}\n",
    "            objs = []\n",
    "            bb_created = False\n",
    "            idd += 1\n",
    "            filename = os.path.join(\n",
    "                radar_folder, radar_files[frame_number])\n",
    "\n",
    "            if (not os.path.isfile(filename)):\n",
    "                print(filename)\n",
    "                continue\n",
    "            record[\"file_name\"] = folder + radar_files[frame_number]\n",
    "            record[\"image_id\"] = idd\n",
    "            \n",
    "            # competition uses 1152x1152 images\n",
    "            record[\"height\"] = 1152\n",
    "            record[\"width\"] = 1152\n",
    "\n",
    "\n",
    "            for object in annotation:\n",
    "                try:\n",
    "                    if (object['bboxes'][frame_number]):\n",
    "                        class_obj = object['class_name']\n",
    "                        if 'pedestrian' in class_obj:\n",
    "                            print(filename, class_obj, object['bboxes'][frame_number])\n",
    "                            continue\n",
    "                        position = (object['bboxes'][frame_number])['position']\n",
    "                        rotation = (object['bboxes'][frame_number])['rotation']\n",
    "                    \n",
    "                        # x_center, y_center, width, height = gen_boundingbox_yolov8(position, rotation, 1152,1152 )\n",
    "                        x_center, y_center, width, height = gen_boundingbox_yolov8(position, rotation, 1600,1600 )\n",
    "                        obj = {\n",
    "                            \"bbox\": [x_center, y_center, width, height],\n",
    "                            \"category_id\": 0,\n",
    "                        }\n",
    "                        objs.append(obj)\n",
    "                        bb_created = True\n",
    "\n",
    "                        ### Student implement ###\n",
    "                        # TODO\n",
    "                except:\n",
    "                    loss_files.update({folder + radar_files[frame_number][:-3]+'txt':idd})\n",
    "\n",
    "    print(frame_nums)\n",
    "    return dataset_dicts, loss_files"
   ]
  },
  {
   "cell_type": "code",
   "execution_count": 74,
   "metadata": {},
   "outputs": [],
   "source": [
    "folders = os.listdir(train_dir)\n",
    "data_dict,loss_files = get_radar_dicts(folders, root_dir=train_dir)"
   ]
  },
  {
   "cell_type": "code",
   "execution_count": 25,
   "metadata": {},
   "outputs": [
    {
     "ename": "FileNotFoundError",
     "evalue": "[Errno 2] No such file or directory: './bonus_data\\\\label\\\\train\\\\train243.txt'",
     "output_type": "error",
     "traceback": [
      "\u001b[1;31m---------------------------------------------------------------------------\u001b[0m",
      "\u001b[1;31mFileNotFoundError\u001b[0m                         Traceback (most recent call last)",
      "Cell \u001b[1;32mIn[25], line 13\u001b[0m\n\u001b[0;32m     11\u001b[0m \u001b[39mfor\u001b[39;00m data \u001b[39min\u001b[39;00m loss_files\u001b[39m.\u001b[39mkeys():\n\u001b[0;32m     12\u001b[0m     empyt_file \u001b[39m=\u001b[39m os\u001b[39m.\u001b[39mpath\u001b[39m.\u001b[39mjoin(save_dir, \u001b[39m'\u001b[39m\u001b[39mlabel\u001b[39m\u001b[39m'\u001b[39m,\u001b[39m'\u001b[39m\u001b[39mtrain\u001b[39m\u001b[39m'\u001b[39m , data)\n\u001b[1;32m---> 13\u001b[0m     \u001b[39mwith\u001b[39;00m \u001b[39mopen\u001b[39;49m(empyt_file, \u001b[39m'\u001b[39;49m\u001b[39mw\u001b[39;49m\u001b[39m'\u001b[39;49m) \u001b[39mas\u001b[39;00m file:\n\u001b[0;32m     14\u001b[0m         \u001b[39mpass\u001b[39;00m\n",
      "File \u001b[1;32mc:\\Users\\User\\anaconda3\\envs\\final\\lib\\site-packages\\IPython\\core\\interactiveshell.py:284\u001b[0m, in \u001b[0;36m_modified_open\u001b[1;34m(file, *args, **kwargs)\u001b[0m\n\u001b[0;32m    277\u001b[0m \u001b[39mif\u001b[39;00m file \u001b[39min\u001b[39;00m {\u001b[39m0\u001b[39m, \u001b[39m1\u001b[39m, \u001b[39m2\u001b[39m}:\n\u001b[0;32m    278\u001b[0m     \u001b[39mraise\u001b[39;00m \u001b[39mValueError\u001b[39;00m(\n\u001b[0;32m    279\u001b[0m         \u001b[39mf\u001b[39m\u001b[39m\"\u001b[39m\u001b[39mIPython won\u001b[39m\u001b[39m'\u001b[39m\u001b[39mt let you open fd=\u001b[39m\u001b[39m{\u001b[39;00mfile\u001b[39m}\u001b[39;00m\u001b[39m by default \u001b[39m\u001b[39m\"\u001b[39m\n\u001b[0;32m    280\u001b[0m         \u001b[39m\"\u001b[39m\u001b[39mas it is likely to crash IPython. If you know what you are doing, \u001b[39m\u001b[39m\"\u001b[39m\n\u001b[0;32m    281\u001b[0m         \u001b[39m\"\u001b[39m\u001b[39myou can use builtins\u001b[39m\u001b[39m'\u001b[39m\u001b[39m open.\u001b[39m\u001b[39m\"\u001b[39m\n\u001b[0;32m    282\u001b[0m     )\n\u001b[1;32m--> 284\u001b[0m \u001b[39mreturn\u001b[39;00m io_open(file, \u001b[39m*\u001b[39;49margs, \u001b[39m*\u001b[39;49m\u001b[39m*\u001b[39;49mkwargs)\n",
      "\u001b[1;31mFileNotFoundError\u001b[0m: [Errno 2] No such file or directory: './bonus_data\\\\label\\\\train\\\\train243.txt'"
     ]
    }
   ],
   "source": [
    "for data in data_dict:    \n",
    "    label_file = os.path.join(save_dir, 'labels','train' , data['file_name'][:-3]+'txt')\n",
    "    with open(label_file, 'w') as file:\n",
    "        for obj in data['annotations']:\n",
    "            class_id = obj['category_id']\n",
    "            x_center = obj['bbox'][0]\n",
    "            y_center = obj['bbox'][1]\n",
    "            width = obj['bbox'][2]\n",
    "            height = obj['bbox'][3]\n",
    "            file.write(f\"{class_id} {x_center} {y_center} {width} {height}\\n\")\n",
    "for data in loss_files.keys():\n",
    "    empyt_file = os.path.join(save_dir, 'label','train' , data)\n",
    "    with open(empyt_file, 'w') as file:\n",
    "        pass"
   ]
  },
  {
   "cell_type": "code",
   "execution_count": 48,
   "metadata": {},
   "outputs": [],
   "source": [
    "for data in loss_files.keys():\n",
    "    empyt_file = os.path.join(save_dir, 'labels','train' , data)\n",
    "    with open(empyt_file, 'w') as file:\n",
    "        pass"
   ]
  },
  {
   "cell_type": "code",
   "execution_count": 16,
   "metadata": {},
   "outputs": [],
   "source": [
    "for data in loss_files.keys():\n",
    "    data = data[:-3]+'png'\n",
    "    # print(data)\n",
    "    empyt_file = os.path.join(save_dir, 'images','train' , data)\n",
    "    os.remove(empyt_file)"
   ]
  },
  {
   "cell_type": "code",
   "execution_count": 125,
   "metadata": {},
   "outputs": [],
   "source": [
    "temp = os.listdir(os.path.join(save_dir, 'label','val' ))\n",
    "temp2 = os.listdir(os.path.join(save_dir, 'images','val' ))"
   ]
  },
  {
   "cell_type": "code",
   "execution_count": 135,
   "metadata": {},
   "outputs": [],
   "source": [
    "missed_files = []\n",
    "for data in temp2:\n",
    "    if data[:-3]+'txt' not in temp:\n",
    "        os.remove(os.path.join(save_dir, 'images','val' , 'rain_4_'+data[7:-3]+'png'))"
   ]
  },
  {
   "cell_type": "code",
   "execution_count": 46,
   "metadata": {},
   "outputs": [],
   "source": [
    "for file in os.listdir('C:\\\\lcy\\\\2023_final\\\\vehicle_detection\\\\yolov8_dataset\\\\labels\\\\train_data'):\n",
    "    os.rename(os.path.join('C:\\\\lcy\\\\2023_final\\\\vehicle_detection\\\\yolov8_dataset\\\\labels\\\\train_data', file), os.path.join('C:\\\\lcy\\\\2023_final\\\\vehicle_detection\\\\yolov8_dataset\\\\labels\\\\train_data', file[-10:]))"
   ]
  },
  {
   "cell_type": "code",
   "execution_count": 134,
   "metadata": {},
   "outputs": [
    {
     "data": {
      "text/plain": [
       "69"
      ]
     },
     "execution_count": 134,
     "metadata": {},
     "output_type": "execute_result"
    }
   ],
   "source": [
    "len(missed_files)"
   ]
  }
 ],
 "metadata": {
  "kernelspec": {
   "display_name": "final",
   "language": "python",
   "name": "python3"
  },
  "language_info": {
   "codemirror_mode": {
    "name": "ipython",
    "version": 3
   },
   "file_extension": ".py",
   "mimetype": "text/x-python",
   "name": "python",
   "nbconvert_exporter": "python",
   "pygments_lexer": "ipython3",
   "version": "3.8.18"
  },
  "orig_nbformat": 4
 },
 "nbformat": 4,
 "nbformat_minor": 2
}
