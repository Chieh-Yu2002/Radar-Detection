{
 "cells": [
  {
   "cell_type": "code",
   "execution_count": 48,
   "metadata": {},
   "outputs": [],
   "source": [
    "import os\n",
    "import numpy as np\n",
    "import shutil\n",
    "import json\n",
    "import re\n",
    "save_dir = './bonus_data'\n",
    "train_dir = './bonus_data/train_data/'\n",
    "test_dir = './bonus_data/test_data/'\n",
    "train_file = os.path.join(save_dir, 'train.txt')\n",
    "test_file = os.path.join(save_dir, 'test.txt')"
   ]
  },
  {
   "attachments": {},
   "cell_type": "markdown",
   "metadata": {},
   "source": [
    "# Create label txt"
   ]
  },
  {
   "cell_type": "code",
   "execution_count": null,
   "metadata": {},
   "outputs": [],
   "source": [
    "def get_bonus_radar_dicts(image, annotations, sources, image_folder, label_folder):\n",
    "    image_data = {img['id']: (img['file_name'], img['width'], img['height']) for img in image}\n",
    "    image_annotations = {img_id: [] for img_id in image_data}\n",
    "\n",
    "    for ann in annotations:\n",
    "        img_id, bbox = ann['image_id'], ann['bbox']\n",
    "        width, height = image_data[img_id][1], image_data[img_id][2]\n",
    "        x_center, y_center = (bbox[0] + bbox[2] / 2) / width, (bbox[1] + bbox[3] / 2) / height\n",
    "        bbox_width, bbox_height = bbox[2] / width, bbox[3] / height\n",
    "        image_annotations[img_id].append(f\"{ann['category_id']} {x_center} {y_center} {bbox_width} {bbox_height}\")\n",
    "\n",
    "    for img_id, ann_list in image_annotations.items():\n",
    "        with open(os.path.join(label_folder, f\"{img_id}.txt\"), 'w') as file:\n",
    "            file.writelines('\\n'.join(ann_list))\n",
    "        shutil.copy(os.path.join(sources, image_data[img_id][0]), os.path.join(image_folder, f\"{img_id}.png\"))\n"
   ]
  },
  {
   "cell_type": "code",
   "execution_count": null,
   "metadata": {},
   "outputs": [],
   "source": [
    "annotations_file = './bonus_data/train_data/train/annotations/annotations.json'\n",
    "\n",
    "with open(annotations_file, 'r') as file:\n",
    "    data = json.load(file)\n",
    "\n",
    "images = data['images']\n",
    "annotations = data['annotations']\n",
    "\n",
    "source = 'C:/lcy/2023_final/vehicle_detection/bonus_data/train_data/train/Navtech_Cartesian'\n",
    "image_folder = './bonus_data/images/train'\n",
    "label_folder = './bonus_data/labels/train'"
   ]
  },
  {
   "cell_type": "code",
   "execution_count": 64,
   "metadata": {},
   "outputs": [],
   "source": [
    "get_bonus_radar_dicts(images, annotations, source, image_folder, label_folder)\n",
    "# get_gt_file()"
   ]
  },
  {
   "attachments": {},
   "cell_type": "markdown",
   "metadata": {},
   "source": [
    "# Split the data"
   ]
  },
  {
   "cell_type": "code",
   "execution_count": 51,
   "metadata": {},
   "outputs": [],
   "source": [
    "label_folder = os.path.join(save_dir, 'labels','train')\n",
    "image_folder = os.path.join(save_dir, 'images','train')"
   ]
  },
  {
   "cell_type": "code",
   "execution_count": 52,
   "metadata": {},
   "outputs": [
    {
     "data": {
      "text/plain": [
       "439"
      ]
     },
     "execution_count": 52,
     "metadata": {},
     "output_type": "execute_result"
    }
   ],
   "source": [
    "len(os.listdir(label_folder))"
   ]
  },
  {
   "cell_type": "code",
   "execution_count": 53,
   "metadata": {},
   "outputs": [],
   "source": [
    "temp = np.random.choice(os.listdir(label_folder),1000)"
   ]
  },
  {
   "cell_type": "code",
   "execution_count": 54,
   "metadata": {},
   "outputs": [],
   "source": [
    "for file in np.random.choice(os.listdir(label_folder),40,replace=False):\n",
    "    file = file[:-4]\n",
    "    shutil.move(os.path.join(label_folder, file + '.txt'), os.path.join(save_dir, 'labels','val', file + '.txt'))\n",
    "    shutil.move(os.path.join(image_folder, file + '.png'), os.path.join(save_dir, 'images','val', file + '.png'))"
   ]
  }
 ],
 "metadata": {
  "kernelspec": {
   "display_name": "final",
   "language": "python",
   "name": "python3"
  },
  "language_info": {
   "codemirror_mode": {
    "name": "ipython",
    "version": 3
   },
   "file_extension": ".py",
   "mimetype": "text/x-python",
   "name": "python",
   "nbconvert_exporter": "python",
   "pygments_lexer": "ipython3",
   "version": "3.8.18"
  },
  "orig_nbformat": 4
 },
 "nbformat": 4,
 "nbformat_minor": 2
}
